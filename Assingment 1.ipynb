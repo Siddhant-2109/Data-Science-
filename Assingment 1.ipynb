{
 "cells": [
  {
   "cell_type": "code",
   "execution_count": 1,
   "id": "1425c635-44fd-4dcc-b263-cb3e11f6f82d",
   "metadata": {},
   "outputs": [],
   "source": [
    "\"\"\"Question 1 - Q1. Create one variable containing following type of data:\n",
    "\n",
    "(i)\tstring\n",
    "\n",
    "(ii)\tlist\n",
    "\n",
    "(iii)\tfloat\n",
    "\n",
    "(iv)\ttupl  \"\"\"\n"
   ]
  },
  {
   "cell_type": "code",
   "execution_count": 2,
   "id": "75f7d5f9-d597-41a3-a03d-b9ff5ebb9134",
   "metadata": {},
   "outputs": [],
   "source": [
    "a = \"siddhant\""
   ]
  },
  {
   "cell_type": "code",
   "execution_count": 3,
   "id": "40d1ce8c-d053-42c9-ba47-4701c487ae3c",
   "metadata": {},
   "outputs": [
    {
     "data": {
      "text/plain": [
       "'siddhant'"
      ]
     },
     "execution_count": 3,
     "metadata": {},
     "output_type": "execute_result"
    }
   ],
   "source": [
    "a"
   ]
  },
  {
   "cell_type": "code",
   "execution_count": 4,
   "id": "337e9716-33cc-4280-850a-79a165fc943b",
   "metadata": {},
   "outputs": [
    {
     "data": {
      "text/plain": [
       "str"
      ]
     },
     "execution_count": 4,
     "metadata": {},
     "output_type": "execute_result"
    }
   ],
   "source": [
    "type (a)"
   ]
  },
  {
   "cell_type": "code",
   "execution_count": 5,
   "id": "43747cfa-180f-429d-9562-3559ebc369d4",
   "metadata": {},
   "outputs": [],
   "source": [
    "b = [12, 87, \"pwskills\", 65.87, False]"
   ]
  },
  {
   "cell_type": "code",
   "execution_count": 6,
   "id": "eae9491c-ca1d-4119-bedd-85e2335b7d40",
   "metadata": {},
   "outputs": [
    {
     "data": {
      "text/plain": [
       "[12, 87, 'pwskills', 65.87, False]"
      ]
     },
     "execution_count": 6,
     "metadata": {},
     "output_type": "execute_result"
    }
   ],
   "source": [
    "b"
   ]
  },
  {
   "cell_type": "code",
   "execution_count": 7,
   "id": "0b41e0a3-9499-4d86-9231-b4104be44cde",
   "metadata": {},
   "outputs": [
    {
     "data": {
      "text/plain": [
       "list"
      ]
     },
     "execution_count": 7,
     "metadata": {},
     "output_type": "execute_result"
    }
   ],
   "source": [
    "type (b)"
   ]
  },
  {
   "cell_type": "code",
   "execution_count": 10,
   "id": "96f346e9-6d81-4e30-af6c-0836b72f0715",
   "metadata": {},
   "outputs": [],
   "source": [
    "c = 3.14"
   ]
  },
  {
   "cell_type": "code",
   "execution_count": 11,
   "id": "ca07e758-d033-4754-8b80-e8bc2f46d48e",
   "metadata": {},
   "outputs": [
    {
     "data": {
      "text/plain": [
       "float"
      ]
     },
     "execution_count": 11,
     "metadata": {},
     "output_type": "execute_result"
    }
   ],
   "source": [
    "type(c)"
   ]
  },
  {
   "cell_type": "code",
   "execution_count": 12,
   "id": "97640387-2c8f-4119-947a-6819471adb96",
   "metadata": {},
   "outputs": [],
   "source": [
    "d = (\"apple\", \"banana\", \"cherry\", \"apple\", \"cherry\")"
   ]
  },
  {
   "cell_type": "code",
   "execution_count": 13,
   "id": "3bb1f2ed-54e9-4bc1-9461-f0c1a1fd7440",
   "metadata": {},
   "outputs": [
    {
     "data": {
      "text/plain": [
       "tuple"
      ]
     },
     "execution_count": 13,
     "metadata": {},
     "output_type": "execute_result"
    }
   ],
   "source": [
    "type (d)"
   ]
  },
  {
   "cell_type": "code",
   "execution_count": null,
   "id": "38132c1e-7359-421d-85b7-66cd42471409",
   "metadata": {},
   "outputs": [],
   "source": []
  },
  {
   "cell_type": "code",
   "execution_count": null,
   "id": "b027c17a-4548-47b1-9afc-b97efff56d7c",
   "metadata": {},
   "outputs": [],
   "source": []
  },
  {
   "cell_type": "code",
   "execution_count": 14,
   "id": "74259a81-9562-47be-9b19-58ad4776cf90",
   "metadata": {},
   "outputs": [],
   "source": [
    "\"\"\" Question 4 - Q4. Create a list of length 10 of your choice containing multiple types of data. Using for loop print the \n",
    "element and its data type \"\"\"\n"
   ]
  },
  {
   "cell_type": "code",
   "execution_count": null,
   "id": "5b3be514-58e6-4265-acc2-c0b6848ad864",
   "metadata": {},
   "outputs": [],
   "source": [
    "list = [\"siddhant\", 22, 23.76, True, \"pwskills\", False, 1, 3.14, True, 'kumar' ]"
   ]
  },
  {
   "cell_type": "code",
   "execution_count": 17,
   "id": "c303b94c-c2ca-4a9c-962f-271e5bb5f608",
   "metadata": {},
   "outputs": [
    {
     "data": {
      "text/plain": [
       "list"
      ]
     },
     "execution_count": 17,
     "metadata": {},
     "output_type": "execute_result"
    }
   ],
   "source": [
    "type (list)"
   ]
  },
  {
   "cell_type": "code",
   "execution_count": 19,
   "id": "a60b8e57-9131-41c3-8e0f-6f6df54037a1",
   "metadata": {},
   "outputs": [
    {
     "name": "stdout",
     "output_type": "stream",
     "text": [
      "siddhant\n",
      "<class 'str'>\n",
      "22\n",
      "<class 'int'>\n",
      "23.76\n",
      "<class 'float'>\n",
      "True\n",
      "<class 'bool'>\n",
      "pwskills\n",
      "<class 'str'>\n",
      "False\n",
      "<class 'bool'>\n",
      "1\n",
      "<class 'int'>\n",
      "3.14\n",
      "<class 'float'>\n",
      "True\n",
      "<class 'bool'>\n",
      "kumar\n",
      "<class 'str'>\n"
     ]
    }
   ],
   "source": [
    "i=0\n",
    "for i in list :\n",
    "    print(i)\n",
    "    print(type(i))"
   ]
  },
  {
   "cell_type": "code",
   "execution_count": null,
   "id": "35ad8c77-1dcd-453f-a86d-f1ca4755e4fa",
   "metadata": {},
   "outputs": [],
   "source": []
  },
  {
   "cell_type": "code",
   "execution_count": null,
   "id": "53e930b9-3391-4d9f-81c8-52c28608201f",
   "metadata": {},
   "outputs": [],
   "source": []
  },
  {
   "cell_type": "code",
   "execution_count": 20,
   "id": "364d9e8e-5bfb-47a6-98c8-1f6d97c03015",
   "metadata": {},
   "outputs": [],
   "source": [
    "\"\"\"question 6- Q6. Create a list containing 25 int type data. Using for loop and if-else condition print if the element is \n",
    "divisible by 3 or not \"\"\"\n"
   ]
  },
  {
   "cell_type": "code",
   "execution_count": 19,
   "id": "cd33a3ff-598e-49d3-b7ef-7333e3ff4544",
   "metadata": {},
   "outputs": [
    {
     "name": "stdout",
     "output_type": "stream",
     "text": [
      "3 is divisible by 3\n",
      "5 is not divisible by 3\n",
      "7 is not divisible by 3\n",
      "9 is divisible by 3\n",
      "12 is not divisible by 3\n",
      "14 is not divisible by 3\n",
      "15 is divisible by 3\n",
      "67 is not divisible by 3\n",
      "66 is not divisible by 3\n",
      "87 is divisible by 3\n",
      "999 is not divisible by 3\n",
      "123 is not divisible by 3\n",
      "5456 is divisible by 3\n",
      "6666 is not divisible by 3\n",
      "22 is not divisible by 3\n",
      "987 is divisible by 3\n",
      "6454 is not divisible by 3\n",
      "94846 is not divisible by 3\n",
      "654 is divisible by 3\n",
      "34345 is not divisible by 3\n",
      "6354 is not divisible by 3\n",
      "74645 is divisible by 3\n",
      "64528 is not divisible by 3\n",
      "65 is not divisible by 3\n",
      "90 is divisible by 3\n"
     ]
    }
   ],
   "source": [
    "A = [3, 5, 7, 9, 12, 14, 15, 67, 66, 87, 999, 123, 5456, 6666, 22, 987, 6454, 94846, 654, 34345, 6354, 74645, 64528, 65, 90]\n",
    "i = 0\n",
    "for i in range(len(A)):\n",
    "    if i%3 == 0 :\n",
    "        print( A[i], \"is divisible by 3\")\n",
    "    else :\n",
    "        print( A[i], \"is not divisible by 3\")\n",
    "i = i+1 "
   ]
  },
  {
   "cell_type": "code",
   "execution_count": null,
   "id": "f2025973-49b5-45ba-8760-c57f4f26be49",
   "metadata": {},
   "outputs": [],
   "source": []
  },
  {
   "cell_type": "code",
   "execution_count": null,
   "id": "711ed192-d76c-4396-b8d8-0d611c83afcc",
   "metadata": {},
   "outputs": [],
   "source": []
  },
  {
   "cell_type": "code",
   "execution_count": 20,
   "id": "3baf70a4-0d6d-4cea-aea8-a28e77455a69",
   "metadata": {},
   "outputs": [],
   "source": [
    "\"\"\" Question 7 - Q7. What do you understand about mutable and immutable data types? Give examples for both showing \n",
    "this property. \"\"\""
   ]
  },
  {
   "cell_type": "code",
   "execution_count": 21,
   "id": "ce117ed9-a8f1-45dc-93d6-44b382d5eb87",
   "metadata": {},
   "outputs": [],
   "source": [
    "     ### Mutable object"
   ]
  },
  {
   "cell_type": "code",
   "execution_count": 22,
   "id": "18ea8eb6-a264-416f-a9db-865c0c635d6a",
   "metadata": {},
   "outputs": [],
   "source": [
    "list = [\"apple\", \"guava\", \"orange\"]"
   ]
  },
  {
   "cell_type": "code",
   "execution_count": 23,
   "id": "5c1ba410-50cf-47b5-a8d4-5523d4ac4ad4",
   "metadata": {},
   "outputs": [
    {
     "data": {
      "text/plain": [
       "['apple', 'guava', 'orange']"
      ]
     },
     "execution_count": 23,
     "metadata": {},
     "output_type": "execute_result"
    }
   ],
   "source": [
    "list"
   ]
  },
  {
   "cell_type": "code",
   "execution_count": 24,
   "id": "1d63a698-19ad-41ad-8432-764ff30af6dc",
   "metadata": {},
   "outputs": [
    {
     "data": {
      "text/plain": [
       "list"
      ]
     },
     "execution_count": 24,
     "metadata": {},
     "output_type": "execute_result"
    }
   ],
   "source": [
    "type (list)"
   ]
  },
  {
   "cell_type": "code",
   "execution_count": 25,
   "id": "6b78dad4-6cb8-440d-99e1-8b68ad8df176",
   "metadata": {},
   "outputs": [
    {
     "data": {
      "text/plain": [
       "'0x7f6a2d5dd840'"
      ]
     },
     "execution_count": 25,
     "metadata": {},
     "output_type": "execute_result"
    }
   ],
   "source": [
    "hex(id(list))"
   ]
  },
  {
   "cell_type": "code",
   "execution_count": 26,
   "id": "bc77e3ce-4164-40e5-951b-aaa17b286377",
   "metadata": {},
   "outputs": [],
   "source": [
    "list[0] = \"jamun\""
   ]
  },
  {
   "cell_type": "code",
   "execution_count": 27,
   "id": "ee85a6d0-0f11-4702-b73e-9ce7296dc07f",
   "metadata": {},
   "outputs": [
    {
     "data": {
      "text/plain": [
       "['jamun', 'guava', 'orange']"
      ]
     },
     "execution_count": 27,
     "metadata": {},
     "output_type": "execute_result"
    }
   ],
   "source": [
    "list"
   ]
  },
  {
   "cell_type": "code",
   "execution_count": 28,
   "id": "05d71388-757f-4e12-872a-382cd6ab8b5b",
   "metadata": {},
   "outputs": [
    {
     "data": {
      "text/plain": [
       "'0x7f6a2d5dd840'"
      ]
     },
     "execution_count": 28,
     "metadata": {},
     "output_type": "execute_result"
    }
   ],
   "source": [
    "hex(id(list))"
   ]
  },
  {
   "cell_type": "code",
   "execution_count": 29,
   "id": "269af6b8-99d5-4d23-b221-c82cfdc83183",
   "metadata": {},
   "outputs": [],
   "source": [
    "    ### Immutable object"
   ]
  },
  {
   "cell_type": "code",
   "execution_count": 30,
   "id": "6fcd7b7d-e38d-4f56-b842-8c75bdfc9fdd",
   "metadata": {},
   "outputs": [],
   "source": [
    "name = \"Siddhant\""
   ]
  },
  {
   "cell_type": "code",
   "execution_count": 31,
   "id": "117163d6-eabb-49ee-8a4b-8e27059b26c9",
   "metadata": {},
   "outputs": [
    {
     "data": {
      "text/plain": [
       "str"
      ]
     },
     "execution_count": 31,
     "metadata": {},
     "output_type": "execute_result"
    }
   ],
   "source": [
    "type (name)"
   ]
  },
  {
   "cell_type": "code",
   "execution_count": 33,
   "id": "2bc87177-8e2a-4e49-80e7-ac6f4163c747",
   "metadata": {},
   "outputs": [
    {
     "data": {
      "text/plain": [
       "'i'"
      ]
     },
     "execution_count": 33,
     "metadata": {},
     "output_type": "execute_result"
    }
   ],
   "source": [
    "name[1]"
   ]
  },
  {
   "cell_type": "code",
   "execution_count": 34,
   "id": "d0d9e231-379d-4d6d-bfab-1b8012e758f6",
   "metadata": {},
   "outputs": [
    {
     "ename": "TypeError",
     "evalue": "'str' object does not support item assignment",
     "output_type": "error",
     "traceback": [
      "\u001b[0;31m---------------------------------------------------------------------------\u001b[0m",
      "\u001b[0;31mTypeError\u001b[0m                                 Traceback (most recent call last)",
      "Cell \u001b[0;32mIn[34], line 1\u001b[0m\n\u001b[0;32m----> 1\u001b[0m \u001b[43mname\u001b[49m\u001b[43m[\u001b[49m\u001b[38;5;241;43m1\u001b[39;49m\u001b[43m]\u001b[49m \u001b[38;5;241m=\u001b[39m \u001b[38;5;124m\"\u001b[39m\u001b[38;5;124me\u001b[39m\u001b[38;5;124m\"\u001b[39m\n",
      "\u001b[0;31mTypeError\u001b[0m: 'str' object does not support item assignment"
     ]
    }
   ],
   "source": [
    "name[1] = \"e\""
   ]
  },
  {
   "cell_type": "code",
   "execution_count": 35,
   "id": "1d266e0d-2df8-4893-a85e-b6a8895a15e8",
   "metadata": {},
   "outputs": [
    {
     "data": {
      "text/plain": [
       "'0x7f6a2d53f770'"
      ]
     },
     "execution_count": 35,
     "metadata": {},
     "output_type": "execute_result"
    }
   ],
   "source": [
    "hex(id(name))"
   ]
  },
  {
   "cell_type": "code",
   "execution_count": 36,
   "id": "567ba61e-d0a2-4097-9620-6076c325f775",
   "metadata": {},
   "outputs": [
    {
     "ename": "AttributeError",
     "evalue": "'str' object has no attribute 'append'",
     "output_type": "error",
     "traceback": [
      "\u001b[0;31m---------------------------------------------------------------------------\u001b[0m",
      "\u001b[0;31mAttributeError\u001b[0m                            Traceback (most recent call last)",
      "Cell \u001b[0;32mIn[36], line 1\u001b[0m\n\u001b[0;32m----> 1\u001b[0m \u001b[43mname\u001b[49m\u001b[38;5;241;43m.\u001b[39;49m\u001b[43mappend\u001b[49m(ite)\n",
      "\u001b[0;31mAttributeError\u001b[0m: 'str' object has no attribute 'append'"
     ]
    }
   ],
   "source": [
    "name.append(ite)"
   ]
  },
  {
   "cell_type": "code",
   "execution_count": 37,
   "id": "07cba4d8-c3c4-418e-af6e-ac8ee50f263b",
   "metadata": {},
   "outputs": [],
   "source": [
    "name = name + \"ite\""
   ]
  },
  {
   "cell_type": "code",
   "execution_count": 38,
   "id": "abd5c75f-34a0-414c-82d5-91f1e3c132fb",
   "metadata": {},
   "outputs": [
    {
     "data": {
      "text/plain": [
       "'Siddhantite'"
      ]
     },
     "execution_count": 38,
     "metadata": {},
     "output_type": "execute_result"
    }
   ],
   "source": [
    "name"
   ]
  },
  {
   "cell_type": "code",
   "execution_count": 39,
   "id": "752a3877-33ba-4a7d-a8c3-bf54ad93a199",
   "metadata": {},
   "outputs": [
    {
     "data": {
      "text/plain": [
       "'0x7f6a3f3be3b0'"
      ]
     },
     "execution_count": 39,
     "metadata": {},
     "output_type": "execute_result"
    }
   ],
   "source": [
    "hex(id(name))"
   ]
  },
  {
   "cell_type": "code",
   "execution_count": null,
   "id": "7d7ced2e-789b-4397-b87a-602389a29d01",
   "metadata": {},
   "outputs": [],
   "source": []
  },
  {
   "cell_type": "code",
   "execution_count": null,
   "id": "f7ce1162-d90d-4b55-9c7e-85488793ac5d",
   "metadata": {},
   "outputs": [],
   "source": []
  },
  {
   "cell_type": "code",
   "execution_count": null,
   "id": "39493bf7-b33c-4ec8-9a93-13a869b1ef9c",
   "metadata": {},
   "outputs": [],
   "source": []
  },
  {
   "cell_type": "code",
   "execution_count": 40,
   "id": "c1d03ef9-99e2-4bbc-b91c-a7315e2028d2",
   "metadata": {},
   "outputs": [],
   "source": [
    "\"\"\" Q3. Explain the use of the following operators using an example:\n",
    "\n",
    "(i)\t/\n",
    "\n",
    "(ii)\t% \n",
    "\n",
    "(iii)\t//\n",
    "\n",
    "(iv)\t**  \"\"\""
   ]
  },
  {
   "cell_type": "code",
   "execution_count": 41,
   "id": "bb469329-40c0-4b54-8efa-9f199b1ebd5f",
   "metadata": {},
   "outputs": [
    {
     "data": {
      "text/plain": [
       "5.0"
      ]
     },
     "execution_count": 41,
     "metadata": {},
     "output_type": "execute_result"
    }
   ],
   "source": [
    "20/4 ## / is used for division"
   ]
  },
  {
   "cell_type": "code",
   "execution_count": 42,
   "id": "ae1ab068-8b36-47c8-b761-5898bc449841",
   "metadata": {},
   "outputs": [
    {
     "data": {
      "text/plain": [
       "0"
      ]
     },
     "execution_count": 42,
     "metadata": {},
     "output_type": "execute_result"
    }
   ],
   "source": [
    "20%4 ## % modulus operator gives remainder as result"
   ]
  },
  {
   "cell_type": "code",
   "execution_count": 43,
   "id": "895a59d4-b307-4c31-b1a0-f821851a6f8b",
   "metadata": {},
   "outputs": [
    {
     "data": {
      "text/plain": [
       "6"
      ]
     },
     "execution_count": 43,
     "metadata": {},
     "output_type": "execute_result"
    }
   ],
   "source": [
    "20//3  ## floor division operator gives round off result to nearest whole number"
   ]
  },
  {
   "cell_type": "code",
   "execution_count": 44,
   "id": "0b36d9de-cd77-422d-8b85-948e8a7fc80b",
   "metadata": {},
   "outputs": [
    {
     "data": {
      "text/plain": [
       "9"
      ]
     },
     "execution_count": 44,
     "metadata": {},
     "output_type": "execute_result"
    }
   ],
   "source": [
    "3**2  ## exponential operator will give 3 power 2"
   ]
  },
  {
   "cell_type": "code",
   "execution_count": null,
   "id": "37fc957b-f96a-484e-89b0-6b319432c879",
   "metadata": {},
   "outputs": [],
   "source": []
  },
  {
   "cell_type": "code",
   "execution_count": null,
   "id": "e84096fd-0628-428d-8d09-70c98c8a24a4",
   "metadata": {},
   "outputs": [],
   "source": []
  },
  {
   "cell_type": "code",
   "execution_count": 45,
   "id": "3abb718f-fc08-4426-a1a7-d6e8f0fe9d14",
   "metadata": {},
   "outputs": [],
   "source": [
    "\"\"\"\"Question 2 - Q2. Given are some following variables containing data:\n",
    "\n",
    "(i)\tvar1 = ‘ ‘\n",
    "\n",
    "(ii)\tvar2 = ‘[ DS , ML , Python]’\n",
    "\n",
    "(iii)\tvar3 = [ ‘DS’ , ’ML’ , ‘Python’ ]\n",
    "\n",
    "(iv)\tvar4 = 1 \"\"\""
   ]
  },
  {
   "cell_type": "code",
   "execution_count": 46,
   "id": "fcf062da-eb76-49bc-b9db-ec6fdd111b36",
   "metadata": {},
   "outputs": [],
   "source": [
    "# Var1 is string"
   ]
  },
  {
   "cell_type": "code",
   "execution_count": 47,
   "id": "2e79e9a8-d570-41ab-ace8-f319dd3d0b53",
   "metadata": {},
   "outputs": [],
   "source": [
    "# Var2 is string"
   ]
  },
  {
   "cell_type": "code",
   "execution_count": 48,
   "id": "0b3347d0-c27a-402d-8cd9-1558e7eef09f",
   "metadata": {},
   "outputs": [],
   "source": [
    "# Var3 is List"
   ]
  },
  {
   "cell_type": "code",
   "execution_count": 49,
   "id": "b482d8b8-432f-4b6c-abaa-ce805efaea0d",
   "metadata": {},
   "outputs": [],
   "source": [
    "# Var4 is integer"
   ]
  },
  {
   "cell_type": "code",
   "execution_count": null,
   "id": "ad4287aa-a245-458b-a146-b9ac8a5e3bce",
   "metadata": {},
   "outputs": [],
   "source": []
  },
  {
   "cell_type": "code",
   "execution_count": null,
   "id": "cde91d61-d2f0-458e-befe-6b841a154804",
   "metadata": {},
   "outputs": [],
   "source": []
  },
  {
   "cell_type": "code",
   "execution_count": null,
   "id": "9bb376b4-f7bf-4210-a0de-21037914e096",
   "metadata": {},
   "outputs": [],
   "source": []
  },
  {
   "cell_type": "code",
   "execution_count": 1,
   "id": "64352bd7-ee33-4d59-9588-544fccd36213",
   "metadata": {},
   "outputs": [
    {
     "data": {
      "text/plain": [
       "' Answer to question 5 '"
      ]
     },
     "execution_count": 1,
     "metadata": {},
     "output_type": "execute_result"
    }
   ],
   "source": [
    "\"\"\" Answer to question 5 - Q5. Using a while loop, verify if the number A is purely divisible by number B and if so then how many \n",
    "times it can be divisible. \"\"\" "
   ]
  },
  {
   "cell_type": "code",
   "execution_count": 5,
   "id": "22369b71-baf3-42a1-8504-a171018c0676",
   "metadata": {},
   "outputs": [
    {
     "name": "stdin",
     "output_type": "stream",
     "text": [
      "value of A 12\n",
      "value of B 12\n"
     ]
    },
    {
     "name": "stdout",
     "output_type": "stream",
     "text": [
      "A is divisible by B\n",
      "A is divided by B 1 times\n"
     ]
    }
   ],
   "source": [
    "A= int(input(\"value of A\"))\n",
    "B= int(input(\"value of B\"))\n",
    "count = 0\n",
    "while A >= B:\n",
    "    if A%B ==0:\n",
    "        print(\"A is divisible by B\")\n",
    "        count += 1\n",
    "        print(\"A is divided by B\", count, \"times\")\n",
    "    else:\n",
    "        print (\"A is not divisible by B\")\n",
    "    break"
   ]
  },
  {
   "cell_type": "code",
   "execution_count": null,
   "id": "7215da7e-205b-47bc-ad58-0fd8721dd086",
   "metadata": {},
   "outputs": [],
   "source": []
  }
 ],
 "metadata": {
  "kernelspec": {
   "display_name": "Python 3 (ipykernel)",
   "language": "python",
   "name": "python3"
  },
  "language_info": {
   "codemirror_mode": {
    "name": "ipython",
    "version": 3
   },
   "file_extension": ".py",
   "mimetype": "text/x-python",
   "name": "python",
   "nbconvert_exporter": "python",
   "pygments_lexer": "ipython3",
   "version": "3.10.8"
  }
 },
 "nbformat": 4,
 "nbformat_minor": 5
}
