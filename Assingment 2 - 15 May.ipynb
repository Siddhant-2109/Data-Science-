{
 "cells": [
  {
   "cell_type": "code",
   "execution_count": null,
   "id": "7664404b-51de-463d-bf6e-44491c1339b2",
   "metadata": {},
   "outputs": [],
   "source": [
    "Q1. How do you comment code in Python? What are the different types of comments?\n",
    "\n",
    "Ans - We use \" # \"  in  the begining of a statement to commenyt out in Python or if more line of code block needs to be commented \n",
    "then triple quotes - \"\"\" code Block \"\"\" can be used to comment which can further be used as variable also if assigned.\n",
    "\n",
    "\n",
    "Q2. What are variables in Python? How do you declare and assign values to variables?\n",
    "Ans - Variables are containers for storing data values. VAraible sin python can be of diff typeslike - String, Integer, Complex, \n",
    "float, Boolean, List, tuple, set, dictionary.\n",
    "For declaring the variable we just need to assign it to a letter or word, The types of variable could differ though.\n",
    "eg - a= str(78) - type of a would be string.\n",
    "     A= 78 - type of A would be integer.\n",
    "    \n",
    "\n",
    "Q3. How do you convert one data type to another in Python?\n",
    "Ans - We can change the datya type bt Type casting or assigning a new data tyoe in the same variable.\n",
    "eg - a= \"45\" - type is string here.\n",
    "     a= 45 -  type of variable a would change to integer\n",
    "    and another method is type casting eg -= a=\"45\" would result a as string but in next line if we write a = int(\"45\") will \n",
    "    give type of a as integer.\n",
    "    \n",
    "    \n",
    "Q4. How do you write and execute a Python script from the command line?\n",
    "Ans - To run a Python script store in a ‘.py’ file in command line, \n",
    "we have to write ‘python’ keyword before the file name in the command prompt.\n",
    "\n",
    "\n",
    "Q5. Given a list my_list = [1, 2, 3, 4, 5], write the code to slice the list and obtain the sub-list [2, 3]. \n",
    "Ans - my_list1 = my_list[1:3]\n",
    "\n",
    "Q6. What is a complex number in mathematics, and how is it represented in Python?\n",
    "Ans - a+ib is called complex number, in python its represented as 1+3j form where 1 is real number and 3 is unreal number and\n",
    "j is iota.\n",
    "\n",
    "Q7. What is the correct way to declare a variable named age and assign the value 25 to it?\n",
    "Ans- age = 25\n",
    "\n",
    "Q8. Declare a variable named price and assign the value 9.99 to it. What data type does this variable belong to?\n",
    "Ans - price = 9.99 (the data type is float here)\n",
    "\n",
    "Q9. Create a variable named name and assign your full name to it as a string. How would you print the\n",
    "value of this variable?\n",
    "Ans - name =\"Siddhant Kumar\" --> Shift+Enter --> type name and then press shift+Enter.\n",
    "\n",
    "Q10. Given the string \"Hello, World!\", extract the substring \"World\".\n",
    "Ans - a= \"Hello, World!\"\n",
    "     a[-6:-1:1]\n",
    "    \n",
    "Q11. Create a variable named \"is_student\" and assign it a boolean value indicating whether you are\n",
    "currently a student or not.\n",
    "\n",
    "Ans - is_student = False\n"
   ]
  }
 ],
 "metadata": {
  "kernelspec": {
   "display_name": "Python 3 (ipykernel)",
   "language": "python",
   "name": "python3"
  },
  "language_info": {
   "codemirror_mode": {
    "name": "ipython",
    "version": 3
   },
   "file_extension": ".py",
   "mimetype": "text/x-python",
   "name": "python",
   "nbconvert_exporter": "python",
   "pygments_lexer": "ipython3",
   "version": "3.10.8"
  }
 },
 "nbformat": 4,
 "nbformat_minor": 5
}
