{
 "cells": [
  {
   "cell_type": "code",
   "execution_count": null,
   "id": "3770ea69-f4c9-4b45-a54d-7599caa97a08",
   "metadata": {},
   "outputs": [],
   "source": [
    "Q1. Explain Class and Object with respect to Object-Oriented Programming. Give a suitable example.\n",
    "\n",
    "Ans - A class is a user-defined blueprint or prototype from which objects are created.\n",
    "Classes provide a means of bundling data and functionality together.\n",
    "Creating a new class creates a new type of object, allowing new instances of that type to be made. \n",
    "Each class instance can have attributes attached to it for maintaining its state. \n",
    "Class instances can also have methods (defined by their class) for modifying their state.\n",
    "\n",
    "An Object is an instance of a Class. \n",
    "A class is like a blueprint while an instance is a copy of the class with actual values. \n",
    "It’s not an idea anymore, it’s an actual dog, like a dog of breed pug who’s seven years old. \n",
    "You can have many dogs to create many different instances, but without the class as a guide,\n",
    "you would be lost, not knowing what information is required.\n",
    "\n",
    "\n",
    "\n",
    "\n",
    "Q2. Name the four pillars of OOPs.\n",
    "Ans - Polymorphism, Encapsulation, Abstraction, Inheritance.\n",
    "\n",
    "\n",
    "\n",
    "Q3. Explain why the __init__() function is used. Give a suitable example.\n",
    "Ans - All classes have a function called __init__(), which is always executed when the class is being initiated.\n",
    "We use the __init__() function to assign values to object properties, \n",
    "or other operations that are necessary to do when the object is being created.\n",
    "\n",
    "\n",
    "\n",
    "Q4. Why self is used in OOPs?\n",
    "\n",
    "Ans - The self parameter is a reference to the current instance of the class, \n",
    "and is used to access variables that belongs to the class.\n",
    "It does not have to be named self , you can call it whatever you like, \n",
    "but it has to be the first parameter of any function in the class.\n",
    "\n",
    "\n",
    "\n",
    "Q5. What is inheritance? Give an example for each type of inheritance.\n",
    "Ans -  Inheritance allows us to define a class that inherits all the methods and properties from another class.\n",
    "\n",
    "\n",
    "\n"
   ]
  }
 ],
 "metadata": {
  "kernelspec": {
   "display_name": "Python 3 (ipykernel)",
   "language": "python",
   "name": "python3"
  },
  "language_info": {
   "codemirror_mode": {
    "name": "ipython",
    "version": 3
   },
   "file_extension": ".py",
   "mimetype": "text/x-python",
   "name": "python",
   "nbconvert_exporter": "python",
   "pygments_lexer": "ipython3",
   "version": "3.10.8"
  }
 },
 "nbformat": 4,
 "nbformat_minor": 5
}
